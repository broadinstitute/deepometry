{
 "cells": [
  {
   "cell_type": "markdown",
   "metadata": {},
   "source": [
    "# Parse CIFs\n",
    "\n",
    "Use `deepometry.parse` module to transform .CIF files to NumPy arrays. In this example, .CIF files are stored at `/data/raw/` in subdirectories corresponding to the experiment, date, sample, replicate, and class labels. There may be more than one .CIF file per class label.\n",
    "\n",
    "    /data/raw/\n",
    "        Experiment 001/\n",
    "            Day 1/\n",
    "                Sample A/\n",
    "                    Replicate 1/\n",
    "                        Class A/\n",
    "                            A_foo.cif\n",
    "                            A_bar.cif\n",
    "                        Class B/\n",
    "                            B_foo.cif\n",
    "                            B_foo.cif\n",
    "        Experiment 002/\n",
    "            Day 1/\n",
    "                Sample A/\n",
    "                    Replicate 1/\n",
    "                        Class A/\n",
    "                            A_foo.cif\n",
    "                        Class B/\n",
    "                            B_bar.cif\n",
    "                            B_foo.cif\n",
    "        ...\n",
    "\n",
    "Within each .CIF file, we shall parse the images of selected channels of each object into a numpy array, e.g. one cell - one numpy array that contains multiple channels (3D tensor). The arrays are stored at `/data/parsed` in subdirectories mirroring original data structure. Array filenames will have metadata prefixes, followed by a hex series.\n",
    "\n",
    "    /data/parsed/\n",
    "        Experiment 001/\n",
    "            Day 1/\n",
    "                Sample A/\n",
    "                    Replicate 1/\n",
    "                        Class A/\n",
    "                            A__32e88e1ac3a8f44bf8f77371155553b9.npy\n",
    "                            A__3dc56a0c446942aa0da170acfa922091.npy\n",
    "                        Class B/\n",
    "                            B__8068ef7dcddd89da4ca9740bd2ccb31e.npy\n",
    "        Experiment 002/\n",
    "            Day 1/\n",
    "                Sample A/\n",
    "                    Replicate 1/\n",
    "                        Class A/\n",
    "                            A__8348deaa70dfc95c46bd02984d28b873.npy\n",
    "                        Class B/\n",
    "                            B__c1ecbca7bd98c01c1d3293b64cd6739a.npy\n",
    "                            B__c56cfb8e7e7121dd822e47c67d07e2d4.npy\n",
    "        ..."
   ]
  },
  {
   "cell_type": "markdown",
   "metadata": {},
   "source": [
    "# User's settings"
   ]
  },
  {
   "cell_type": "code",
   "execution_count": null,
   "metadata": {},
   "outputs": [],
   "source": [
    "input_parse = '/data/raw'\n",
    "output_parse = '/data/parsed/'\n",
    "\n",
    "# channels = [0, 1]\n",
    "channels = None # for all possible channels\n",
    "\n",
    "frame = 55\n",
    "\n",
    "montage_size = 0"
   ]
  },
  {
   "cell_type": "markdown",
   "metadata": {},
   "source": [
    "# Executable"
   ]
  },
  {
   "cell_type": "code",
   "execution_count": null,
   "metadata": {},
   "outputs": [],
   "source": [
    "import glob\n",
    "import os.path\n",
    "from itertools import groupby\n",
    "\n",
    "import bioformats\n",
    "import javabridge\n",
    "\n",
    "import deepometry.parse"
   ]
  },
  {
   "cell_type": "code",
   "execution_count": null,
   "metadata": {},
   "outputs": [],
   "source": [
    "pathnames_tif = glob.glob(os.path.join(input_parse, '**', '*.tif'), recursive = True)\n",
    "pathnames_tiff = glob.glob(os.path.join(input_parse, '**', '*.tiff'), recursive = True)\n",
    "pathnames_cif = glob.glob(os.path.join(input_parse, '**', '*.cif'), recursive = True)\n",
    "if len(pathnames_cif) > 0:\n",
    "    javabridge.start_vm(class_path=bioformats.JARS, max_heap_size=\"8G\")    \n",
    "    \n",
    "print('Parsing... Please wait!')\n",
    "for paths in [pathnames_tif, pathnames_tiff, pathnames_cif]:\n",
    "    if len(paths) > 0:\n",
    "        keyf = lambda path: os.path.dirname(path)\n",
    "        grouped_paths = [list(items) for gr, items in groupby(paths, key=keyf)]\n",
    "\n",
    "        for group in grouped_paths:\n",
    "\n",
    "            meta_as_path = os.path.relpath(os.path.dirname(group[0]),input_parse)\n",
    "\n",
    "            dest_dir = os.path.join(output_parse,meta_as_path)\n",
    "\n",
    "            deepometry.parse.parse(\n",
    "                paths=group, \n",
    "                output_directory=dest_dir,  \n",
    "                meta = '_'.join(os.path.normpath(meta_as_path).split(os.path.sep)),                                 \n",
    "                size=int(frame),\n",
    "                channels=channels,\n",
    "                montage_size=int(montage_size)\n",
    "            )\n",
    "                \n",
    "print('Done.')"
   ]
  }
 ],
 "metadata": {
  "kernelspec": {
   "display_name": "Python 3",
   "language": "python",
   "name": "python3"
  },
  "language_info": {
   "codemirror_mode": {
    "name": "ipython",
    "version": 3
   },
   "file_extension": ".py",
   "mimetype": "text/x-python",
   "name": "python",
   "nbconvert_exporter": "python",
   "pygments_lexer": "ipython3",
   "version": "3.6.12"
  }
 },
 "nbformat": 4,
 "nbformat_minor": 1
}
