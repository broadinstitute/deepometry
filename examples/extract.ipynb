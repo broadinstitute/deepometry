{
 "cells": [
  {
   "cell_type": "code",
   "execution_count": null,
   "metadata": {
    "collapsed": true,
    "deletable": true,
    "editable": true
   },
   "outputs": [],
   "source": [
    "%matplotlib inline"
   ]
  },
  {
   "cell_type": "code",
   "execution_count": null,
   "metadata": {
    "collapsed": true,
    "deletable": true,
    "editable": true
   },
   "outputs": [],
   "source": [
    "import deepometry.model\n",
    "import deepometry.utils\n",
    "import deepometry.visualize\n",
    "import matplotlib.pyplot\n",
    "import pandas\n",
    "import skimage.io"
   ]
  },
  {
   "cell_type": "markdown",
   "metadata": {
    "deletable": true,
    "editable": true
   },
   "source": [
    "# Extract\n",
    "\n",
    "Suppose we have the following directory structure. Data from this experiment was shown to the model during training. Images are saved as NPY files:\n",
    "\n",
    "    /data/parsed/\n",
    "        patient_A/\n",
    "            positive/\n",
    "                patient_A__32e88e1ac3a8f44bf8f77371155553b9.npy\n",
    "                patient_A__3dc56a0c446942aa0da170acfa922091.npy  \n",
    "                ...\n",
    "            negative/\n",
    "                patient_A__8068ef7dcddd89da4ca9740bd2ccb31e.npy\n",
    "                patient_A__8348deaa70dfc95c46bd02984d28b873.npy\n",
    "                ...\n",
    "        patient_B/\n",
    "            positive/\n",
    "                patient_B__3618e715e62a229aa78a7e373b49b888.npy\n",
    "                patient_B__3cf53cea7f4db1cfd101e06c366c9868.npy\n",
    "                ...\n",
    "            negative/\n",
    "                patient_B__84949e1eba7802b00d4a1755fa9af15e.npy\n",
    "                patient_B__852a1edbf5729fe8721e9e5404a8ad20.npy\n",
    "                ...\n",
    "                \n",
    "\n",
    "Use `deepometry.utils.load` to load images and their corresponding labels. The parameter `convert=False` ensures the values of `labels` are the subdirectory names of each patient (`positive`, or `negative`). "
   ]
  },
  {
   "cell_type": "code",
   "execution_count": null,
   "metadata": {
    "collapsed": true,
    "deletable": true,
    "editable": true
   },
   "outputs": [],
   "source": [
    "directories = [\"/data/parsed/patient_A\", \"/data/parsed/patient_B\"]\n",
    "\n",
    "x, labels, units = deepometry.utils.load(directories, convert=False)"
   ]
  },
  {
   "cell_type": "markdown",
   "metadata": {
    "deletable": true,
    "editable": true
   },
   "source": [
    "Once the data is loaded, we can redefine the model and extract the embedded features of `x`. The features will be saved as a TSV file using pandas. We omit the column headers and the data frame indexes from the exported data."
   ]
  },
  {
   "cell_type": "code",
   "execution_count": null,
   "metadata": {
    "collapsed": true,
    "deletable": true,
    "editable": true
   },
   "outputs": [],
   "source": [
    "import keras.backend\n",
    "import tensorflow\n",
    "\n",
    "configuration = tensorflow.ConfigProto()\n",
    "configuration.gpu_options.allow_growth = True\n",
    "configuration.gpu_options.visible_device_list = \"3\"\n",
    "\n",
    "session = tensorflow.Session(config=configuration)\n",
    "keras.backend.set_session(session)"
   ]
  },
  {
   "cell_type": "code",
   "execution_count": null,
   "metadata": {
    "collapsed": true,
    "deletable": true,
    "editable": true
   },
   "outputs": [],
   "source": [
    "# Instantiate the model\n",
    "model = deepometry.model.Model(shape=x.shape[1:], units=units)\n",
    "model.compile()\n",
    "\n",
    "# Extract the features\n",
    "features = model.extract(x, batch_size=32, standardize=True, verbose=1)\n",
    "\n",
    "# Export features to data/features.tsv\n",
    "features_df = pandas.DataFrame(data=features)\n",
    "features_df.to_csv(\"data/features.tsv\", header=False, index=False, sep=\"\\t\")"
   ]
  },
  {
   "cell_type": "markdown",
   "metadata": {
    "deletable": true,
    "editable": true
   },
   "source": [
    "Additional metadata can also be exported as a TSV. In this example, we export a single-column TSV containing the label data. Single-column metadata should exclude the column header (`header=False`). Metadata containing more than one column should include the column header (`header=True`)."
   ]
  },
  {
   "cell_type": "code",
   "execution_count": null,
   "metadata": {
    "collapsed": true,
    "deletable": true,
    "editable": true
   },
   "outputs": [],
   "source": [
    "metadata_df = pandas.DataFrame(data=labels)\n",
    "metadata_df.to_csv(\"data/metadata.tsv\", header=False, index=False, sep=\"\\t\")"
   ]
  },
  {
   "cell_type": "markdown",
   "metadata": {
    "deletable": true,
    "editable": true
   },
   "source": [
    "When using TensorBoard to visualize an embedding, you can display a \"sprite\" image for each data point. A \"sprite\" is a small image. Use `deepometry.visualize.images_to_sprites` to create an NxN grid of sprites which TensorBoard can use to display image data for each feature."
   ]
  },
  {
   "cell_type": "code",
   "execution_count": null,
   "metadata": {
    "collapsed": true,
    "deletable": true,
    "editable": true
   },
   "outputs": [],
   "source": [
    "# Create the sprites image.\n",
    "sprites = deepometry.visualize.images_to_sprite(x)\n",
    "\n",
    "# Display the sprites image.\n",
    "matplotlib.pyplot.rcParams[\"figure.figsize\"] = (12, 12)\n",
    "matplotlib.pyplot.imshow(sprites)\n",
    "\n",
    "# Export the sprites image.\n",
    "skimage.io.imsave(\"data/sprites.png\", sprites)"
   ]
  }
 ],
 "metadata": {
  "kernelspec": {
   "display_name": "Python 2",
   "language": "python",
   "name": "python2"
  },
  "language_info": {
   "codemirror_mode": {
    "name": "ipython",
    "version": 2
   },
   "file_extension": ".py",
   "mimetype": "text/x-python",
   "name": "python",
   "nbconvert_exporter": "python",
   "pygments_lexer": "ipython2",
   "version": "2.7.12"
  }
 },
 "nbformat": 4,
 "nbformat_minor": 2
}
