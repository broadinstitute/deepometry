{
 "cells": [
  {
   "cell_type": "code",
   "execution_count": null,
   "metadata": {
    "collapsed": true,
    "deletable": true,
    "editable": true
   },
   "outputs": [],
   "source": [
    "import glob\n",
    "import os.path\n",
    "\n",
    "import bioformats\n",
    "import javabridge\n",
    "\n",
    "import deepometry.parse\n",
    "\n",
    "javabridge.start_vm(class_path=bioformats.JARS, max_heap_size=\"8G\")"
   ]
  },
  {
   "cell_type": "markdown",
   "metadata": {
    "deletable": true,
    "editable": true
   },
   "source": [
    "# Parse CIFs\n",
    "\n",
    "Use `deepometry.parse` module to transform .CIF files to NumPy arrays. In this example, .CIF files are stored at `/data/raw/` in subdirectories corresponding to the class labels, filenames begin with the patient names, and there may be more than one .CIF file per patient per class label.\n",
    "\n",
    "    /data/raw/\n",
    "        positive/\n",
    "            A_foo.cif\n",
    "            A_bar.cif\n",
    "            B_foo.cif\n",
    "            B_foo.cif\n",
    "        negative/\n",
    "            A_foo.cif\n",
    "            B_foo.cif\n",
    "            B_bar.cif\n",
    "            B_foo.cif\n",
    "        ...\n",
    "\n",
    "Within each .CIF file, we shall parse the images of selected channels of each object into a numpy array, e.g. one cell - one numpy array that contains multiple channels. The arrays are stored at `/data/parsed` in subdirectories corresponding to the class labels. Array filenames have the patient prefixes, followed by a hex series.\n",
    "\n",
    "    /data/parsed/\n",
    "        positive/\n",
    "            A__32e88e1ac3a8f44bf8f77371155553b9.npy\n",
    "            A__3dc56a0c446942aa0da170acfa922091.npy\n",
    "            B__8068ef7dcddd89da4ca9740bd2ccb31e.npy\n",
    "        negative/\n",
    "            A__8348deaa70dfc95c46bd02984d28b873.npy\n",
    "            B__c1ecbca7bd98c01c1d3293b64cd6739a.npy\n",
    "            B__c56cfb8e7e7121dd822e47c67d07e2d4.npy\n",
    "        ..."
   ]
  },
  {
   "cell_type": "code",
   "execution_count": null,
   "metadata": {
    "collapsed": true,
    "deletable": true,
    "editable": true
   },
   "outputs": [],
   "source": [
    "src = \"/data/raw/\"\n",
    "dest = \"/data/parsed/\"\n",
    "labels = [\"positive\", \"negative\"]"
   ]
  },
  {
   "cell_type": "code",
   "execution_count": null,
   "metadata": {
    "collapsed": true,
    "deletable": true,
    "editable": true
   },
   "outputs": [],
   "source": [
    "channels = [2, 11, 10, 1, 3, 6, 5, 0]"
   ]
  },
  {
   "cell_type": "code",
   "execution_count": null,
   "metadata": {
    "collapsed": true,
    "deletable": true,
    "editable": true
   },
   "outputs": [],
   "source": [
    "image_size = 55"
   ]
  },
  {
   "cell_type": "code",
   "execution_count": null,
   "metadata": {
    "collapsed": true,
    "deletable": true,
    "editable": true
   },
   "outputs": [],
   "source": [
    "for label in labels:\n",
    "    src_dir = os.path.join(src, label)\n",
    "    print(\"Parsing directory: {}\".format(src_dir))\n",
    "\n",
    "    dest_dir = os.path.join(dest, label)\n",
    "    if not os.path.exists(dest_dir):\n",
    "        os.makedirs(dest_dir)\n",
    "    \n",
    "    pathnames = glob.glob(os.path.join(src_dir, \"*.cif\"))\n",
    "    \n",
    "    deepometry.parse.parse(pathnames, dest_dir, image_size, channels)\n",
    "\n",
    "print('Done')"
   ]
  }
 ],
 "metadata": {
  "kernelspec": {
   "display_name": "Python 2",
   "language": "python",
   "name": "python2"
  },
  "language_info": {
   "codemirror_mode": {
    "name": "ipython",
    "version": 2
   },
   "file_extension": ".py",
   "mimetype": "text/x-python",
   "name": "python",
   "nbconvert_exporter": "python",
   "pygments_lexer": "ipython2",
   "version": "2.7.12"
  }
 },
 "nbformat": 4,
 "nbformat_minor": 1
}
