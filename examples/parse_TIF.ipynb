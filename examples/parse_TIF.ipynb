{
 "cells": [
  {
   "cell_type": "code",
   "execution_count": null,
   "metadata": {
    "collapsed": true,
    "deletable": true,
    "editable": true
   },
   "outputs": [],
   "source": [
    "import glob\n",
    "import os.path\n",
    "\n",
    "import numpy\n",
    "\n",
    "import deepometry.parse"
   ]
  },
  {
   "cell_type": "markdown",
   "metadata": {
    "deletable": true,
    "editable": true
   },
   "source": [
    "# Parse TIFs\n",
    "\n",
    "Use `deepometry.parse` module to transform .TIF files to NumPy arrays. In this example, .TIF files are stored at `/data/raw/` in subdirectories corresponding to the class labels. Filenames should contain a prefix \"Ch\" for specifying channels.\n",
    "\n",
    "    /data/raw/\n",
    "        positive/\n",
    "            foo_Ch3.tif\n",
    "            foo_Ch4.tif\n",
    "            foo_Ch6.tif\n",
    "            bar_Ch3.tif\n",
    "            bar_Ch4.tif\n",
    "            bar_Ch6.tif\n",
    "            ...\n",
    "        negative/\n",
    "            foo_Ch3.tif\n",
    "            foo_Ch4.tif\n",
    "            foo_Ch6.tif\n",
    "            bar_Ch3.tif\n",
    "            bar_Ch4.tif\n",
    "            bar_Ch6.tif\n",
    "        ...\n",
    "\n",
    "We parse the images of selected channels of each object into a numpy array, e.g. one cell - one numpy array that contains multiple channels. The arrays are stored at `/data/parsed` in subdirectories corresponding to the class labels. Array filenames have the patient prefixes, followed by a hex series.\n",
    "\n",
    "    /data/parsed/\n",
    "        positive/\n",
    "            foo__32e88e1ac3a8f44bf8f77371155553b9.npy\n",
    "            bar__3dc56a0c446942aa0da170acfa922091.npy\n",
    "            ...\n",
    "        negative/\n",
    "            foo__8348deaa70dfc95c46bd02984d28b873.npy\n",
    "            bar__c1ecbca7bd98c01c1d3293b64cd6739a.npy\n",
    "            ...\n",
    "        ..."
   ]
  },
  {
   "cell_type": "code",
   "execution_count": null,
   "metadata": {
    "collapsed": true,
    "deletable": true,
    "editable": true
   },
   "outputs": [],
   "source": [
    "src = \"/data/raw/\"\n",
    "dest = \"/data/parsed/\"\n",
    "labels = [\"positive\", \"negative\"]"
   ]
  },
  {
   "cell_type": "code",
   "execution_count": null,
   "metadata": {
    "collapsed": true,
    "deletable": true,
    "editable": true
   },
   "outputs": [],
   "source": [
    "channels = [3, 6]"
   ]
  },
  {
   "cell_type": "code",
   "execution_count": null,
   "metadata": {
    "collapsed": true,
    "deletable": true,
    "editable": true
   },
   "outputs": [],
   "source": [
    "image_size = 48"
   ]
  },
  {
   "cell_type": "code",
   "execution_count": null,
   "metadata": {
    "collapsed": false,
    "deletable": true,
    "editable": true
   },
   "outputs": [],
   "source": [
    "for label in labels:\n",
    "    src_dir = os.path.join(src, label)\n",
    "    print(\"Parsing directory: {}\".format(src_dir))\n",
    "\n",
    "    dest_dir = os.path.join(dest, label)\n",
    "    if not os.path.exists(dest_dir):\n",
    "        os.makedirs(dest_dir)\n",
    "    \n",
    "    pathnames = glob.glob(os.path.join(src_dir, \"*.tif\"))\n",
    "    \n",
    "    deepometry.parse.parse(pathnames, dest_dir, image_size, channels)\n",
    "\n",
    "print('Done')"
   ]
  },
  {
   "cell_type": "markdown",
   "metadata": {
    "deletable": true,
    "editable": true
   },
   "source": [
    "If you need to delete the folder of many files, do this in terminal\n",
    "\n",
    "- mkdir empty_dir\n",
    "    \n",
    "- rsync -a --delete empty_dir/    yourdirectory/"
   ]
  }
 ],
 "metadata": {
  "kernelspec": {
   "display_name": "Python 2",
   "language": "python",
   "name": "python2"
  },
  "language_info": {
   "codemirror_mode": {
    "name": "ipython",
    "version": 2
   },
   "file_extension": ".py",
   "mimetype": "text/x-python",
   "name": "python",
   "nbconvert_exporter": "python",
   "pygments_lexer": "ipython2",
   "version": "2.7.12"
  }
 },
 "nbformat": 4,
 "nbformat_minor": 1
}
