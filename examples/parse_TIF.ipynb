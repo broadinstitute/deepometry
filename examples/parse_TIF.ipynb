{
 "cells": [
  {
   "cell_type": "code",
   "execution_count": 1,
   "metadata": {
    "collapsed": true
   },
   "outputs": [],
   "source": [
    "import glob\n",
    "import os.path\n",
    "\n",
    "import bioformats\n",
    "import javabridge\n",
    "import numpy\n",
    "\n",
    "import deepometry.parse\n",
    "\n",
    "import os"
   ]
  },
  {
   "cell_type": "markdown",
   "metadata": {},
   "source": [
    "# Parse\n",
    "\n",
    "Use `deepometry.parse` module to transform .TIF files to NumPy arrays. In this example, .TIF files are stored at `/data/raw/` in subdirectories corresponding to the class labels. Filenames should contain a prefix \"Ch\" for specifying channels.\n",
    "\n",
    "    /data/raw/\n",
    "        positive/\n",
    "            Ch3_foo.tif\n",
    "            Ch4_foo.tif\n",
    "            Ch6_foo.tif\n",
    "            Ch3_bar.tif\n",
    "            Ch4_bar.tif\n",
    "            Ch6_bar.tif\n",
    "            ...\n",
    "        negative/\n",
    "            Ch3_foo.tif\n",
    "            Ch4_foo.tif\n",
    "            Ch6_foo.tif\n",
    "            Ch3_bar.tif\n",
    "            Ch4_bar.tif\n",
    "            Ch6_bar.tif\n",
    "        ...\n",
    "\n",
    "We parse the images of selected channels of each object into a numpy array, e.g. one cell - one numpy array that contains multiple channels. The arrays are stored at `/data/parsed` in subdirectories corresponding to the class labels. Array filenames have the patient prefixes, followed by a hex series.\n",
    "\n",
    "    /data/parsed/\n",
    "        positive/\n",
    "            foo__32e88e1ac3a8f44bf8f77371155553b9.npy\n",
    "            bar__3dc56a0c446942aa0da170acfa922091.npy\n",
    "            baz__8068ef7dcddd89da4ca9740bd2ccb31e.npy\n",
    "        negative/\n",
    "            foo__8348deaa70dfc95c46bd02984d28b873.npy\n",
    "            bar__c1ecbca7bd98c01c1d3293b64cd6739a.npy\n",
    "            baz__c56cfb8e7e7121dd822e47c67d07e2d4.npy\n",
    "        ..."
   ]
  },
  {
   "cell_type": "code",
   "execution_count": 2,
   "metadata": {
    "collapsed": true
   },
   "outputs": [],
   "source": [
    "javabridge.start_vm(class_path=bioformats.JARS, max_heap_size=\"8G\")"
   ]
  },
  {
   "cell_type": "code",
   "execution_count": 3,
   "metadata": {
    "collapsed": true
   },
   "outputs": [],
   "source": [
    "src = \"/data/raw/\"\n",
    "\n",
    "dest = \"/data/parsed\"\n",
    "\n",
    "labels = [x[0] for x in os.walk(src)][1:]"
   ]
  },
  {
   "cell_type": "code",
   "execution_count": 4,
   "metadata": {
    "collapsed": true
   },
   "outputs": [],
   "source": [
    "channels = [1, 6]"
   ]
  },
  {
   "cell_type": "code",
   "execution_count": 5,
   "metadata": {
    "collapsed": true
   },
   "outputs": [],
   "source": [
    "image_size = 48"
   ]
  },
  {
   "cell_type": "code",
   "execution_count": 6,
   "metadata": {},
   "outputs": [
    {
     "data": {
      "text/plain": [
       "True"
      ]
     },
     "execution_count": 6,
     "metadata": {},
     "output_type": "execute_result"
    }
   ],
   "source": [
    "deepometry.parse._parse_tif(src, dest, labels, image_size, channels)"
   ]
  },
  {
   "cell_type": "markdown",
   "metadata": {},
   "source": [
    "If you need to delete the folder of many files, do this in terminal\n",
    "\n",
    "- mkdir empty_dir\n",
    "    \n",
    "- rsync -a --delete empty_dir/    yourdirectory/"
   ]
  }
 ],
 "metadata": {
  "kernelspec": {
   "display_name": "Python 3",
   "language": "python",
   "name": "python3"
  },
  "language_info": {
   "codemirror_mode": {
    "name": "ipython",
    "version": 3
   },
   "file_extension": ".py",
   "mimetype": "text/x-python",
   "name": "python",
   "nbconvert_exporter": "python",
   "pygments_lexer": "ipython3",
   "version": "3.6.1"
  }
 },
 "nbformat": 4,
 "nbformat_minor": 1
}
