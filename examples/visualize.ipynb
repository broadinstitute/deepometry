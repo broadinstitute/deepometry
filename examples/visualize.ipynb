{
 "cells": [
  {
   "cell_type": "code",
   "execution_count": null,
   "metadata": {},
   "outputs": [],
   "source": [
    "import deepometry.visualize"
   ]
  },
  {
   "cell_type": "markdown",
   "metadata": {},
   "source": [
    "# Visualize\n",
    "\n",
    "Visualize an embedded feature spacing using TensorBoard. Use the outputs from `extract` to populate the features, metadata, and sprites parameters for `deepometry.visualize.make_projection`.\n",
    "\n",
    "Recall that the sprites image is an NxN grid of image data. The `sprites_dim` parameter tells TensorBoard how big (in pixels) each sprite is. For example, if a single sprit is 48x48 pixels, then `sprites_dim=48`.\n",
    "\n",
    "To launch TensorBoard, copy the output of the cell below and run it in your terminal."
   ]
  },
  {
   "cell_type": "code",
   "execution_count": null,
   "metadata": {},
   "outputs": [],
   "source": [
    "features = \"data/features.tsv\"\n",
    "metadata = \"data/metadata.tsv\"\n",
    "sprites = \"data/sprites.png\"\n",
    "sprites_dim = 48\n",
    "\n",
    "log_directory = deepometry.visualize.make_projection(\n",
    "    features,\n",
    "    metadata=metadata,\n",
    "    sprites=sprites,\n",
    "    sprites_dim=sprites_dim\n",
    ")\n",
    "\n",
    "print(\"tensorboard --logdir {:s}\".format(log_directory))"
   ]
  }
 ],
 "metadata": {
  "kernelspec": {
   "display_name": "Python 3",
   "language": "python",
   "name": "python3"
  },
  "language_info": {
   "codemirror_mode": {
    "name": "ipython",
    "version": 3
   },
   "file_extension": ".py",
   "mimetype": "text/x-python",
   "name": "python",
   "nbconvert_exporter": "python",
   "pygments_lexer": "ipython3",
   "version": "3.6.4"
  }
 },
 "nbformat": 4,
 "nbformat_minor": 2
}
